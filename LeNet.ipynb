{
  "nbformat": 4,
  "nbformat_minor": 0,
  "metadata": {
    "colab": {
      "provenance": [],
      "authorship_tag": "ABX9TyMwEiLet0YuQgd/nJYZvgjs",
      "include_colab_link": true
    },
    "kernelspec": {
      "name": "python3",
      "display_name": "Python 3"
    },
    "language_info": {
      "name": "python"
    }
  },
  "cells": [
    {
      "cell_type": "markdown",
      "metadata": {
        "id": "view-in-github",
        "colab_type": "text"
      },
      "source": [
        "<a href=\"https://colab.research.google.com/github/IR04dy/NN/blob/main/LeNet.ipynb\" target=\"_parent\"><img src=\"https://colab.research.google.com/assets/colab-badge.svg\" alt=\"Open In Colab\"/></a>"
      ]
    },
    {
      "cell_type": "markdown",
      "source": [
        "http://www.hdcin.cn/2022/03/31/%E5%9B%BE%E5%83%8F%E5%88%86%E7%B1%BB/LeNet.pdf"
      ],
      "metadata": {
        "id": "oPqYTRb-x1Bj"
      }
    },
    {
      "cell_type": "code",
      "execution_count": null,
      "metadata": {
        "id": "VACrokq58PEP"
      },
      "outputs": [],
      "source": [
        "from keras import models, layers\n",
        "import keras"
      ]
    },
    {
      "cell_type": "code",
      "source": [
        "from tensorflow.keras.optimizers import SGD\n",
        "\n",
        "\n",
        "class LeNet(models.Sequential):\n",
        "  def __init__(self, input_shape, nb_classes):\n",
        "    super().__init__()\n",
        "\n",
        "    self.add(layers.Conv2D(6,kernel_size=(5,5), strides=(1,1), activation='tanh', input_shape=input_shape, padding=\"same\"))\n",
        "    self.add(layers.AveragePooling2D(pool_size=(2,2), strides=(1,1),  padding=\"valid\"))\n",
        "    self.add(layers.Conv2D(16,kernel_size=(5,5), strides=(1,1), activation='tanh', padding=\"valid\"))\n",
        "    self.add(layers.AveragePooling2D(pool_size=(2,2), strides=(2,2), padding=\"valid\"))\n",
        "    self.add(layers.Conv2D(120,kernel_size=(5,5), strides=(1,1), activation='tanh', padding=\"valid\"))\n",
        "    self.add(layers.Flatten())\n",
        "    self.add(layers.Dense(84, activation='tanh'))\n",
        "    self.add(layers.Dense(nb_classes, activation='softmax'))\n",
        "\n",
        "    self.compile(loss=keras.losses.categorical_crossentropy, optimizer='SGD')\n",
        "    self.summary()"
      ],
      "metadata": {
        "id": "FRqyZeg48Yk9"
      },
      "execution_count": null,
      "outputs": []
    }
  ]
}